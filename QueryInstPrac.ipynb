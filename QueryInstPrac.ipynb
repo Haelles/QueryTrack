{
 "cells": [
  {
   "cell_type": "code",
   "execution_count": 1,
   "id": "brutal-communist",
   "metadata": {},
   "outputs": [],
   "source": [
    "from setuptools import find_packages"
   ]
  },
  {
   "cell_type": "code",
   "execution_count": 2,
   "id": "mediterranean-christianity",
   "metadata": {},
   "outputs": [],
   "source": [
    "import torch"
   ]
  },
  {
   "cell_type": "code",
   "execution_count": 3,
   "id": "reserved-extension",
   "metadata": {},
   "outputs": [],
   "source": [
    "from torch import nn"
   ]
  },
  {
   "cell_type": "code",
   "execution_count": 2,
   "id": "representative-nickname",
   "metadata": {
    "collapsed": true
   },
   "outputs": [
    {
     "data": {
      "text/plain": [
       "['mmcv_custom',\n",
       " 'mmdet',\n",
       " 'mmcv_custom.runner',\n",
       " 'mmdet.apis',\n",
       " 'mmdet.core',\n",
       " 'mmdet.datasets',\n",
       " 'mmdet.utils',\n",
       " 'mmdet.models',\n",
       " 'mmdet.core.visualization',\n",
       " 'mmdet.core.post_processing',\n",
       " 'mmdet.core.utils',\n",
       " 'mmdet.core.mask',\n",
       " 'mmdet.core.evaluation',\n",
       " 'mmdet.core.anchor',\n",
       " 'mmdet.core.export',\n",
       " 'mmdet.core.bbox',\n",
       " 'mmdet.core.bbox.match_costs',\n",
       " 'mmdet.core.bbox.iou_calculators',\n",
       " 'mmdet.core.bbox.assigners',\n",
       " 'mmdet.core.bbox.samplers',\n",
       " 'mmdet.core.bbox.coder',\n",
       " 'mmdet.datasets.pipelines',\n",
       " 'mmdet.datasets.api_wrappers',\n",
       " 'mmdet.datasets.samplers',\n",
       " 'mmdet.models.losses',\n",
       " 'mmdet.models.dense_heads',\n",
       " 'mmdet.models.necks',\n",
       " 'mmdet.models.utils',\n",
       " 'mmdet.models.backbones',\n",
       " 'mmdet.models.detectors',\n",
       " 'mmdet.models.roi_heads',\n",
       " 'mmdet.models.roi_heads.shared_heads',\n",
       " 'mmdet.models.roi_heads.roi_extractors',\n",
       " 'mmdet.models.roi_heads.bbox_heads',\n",
       " 'mmdet.models.roi_heads.mask_heads']"
      ]
     },
     "execution_count": 2,
     "metadata": {},
     "output_type": "execute_result"
    }
   ],
   "source": [
    "find_packages(exclude=('configs', 'tools', 'demo'))"
   ]
  },
  {
   "cell_type": "code",
   "execution_count": 3,
   "id": "computational-tourism",
   "metadata": {},
   "outputs": [
    {
     "name": "stdout",
     "output_type": "stream",
     "text": [
      "/Users/yupeng/Documents/2021summer/SummerIntern/QueryInst\r\n"
     ]
    }
   ],
   "source": [
    "!pwd"
   ]
  },
  {
   "cell_type": "code",
   "execution_count": 4,
   "id": "political-experience",
   "metadata": {
    "collapsed": true
   },
   "outputs": [
    {
     "data": {
      "text/plain": [
       "['mmcv_custom',\n",
       " 'mmdet',\n",
       " 'mmcv_custom.runner',\n",
       " 'mmdet.apis',\n",
       " 'mmdet.core',\n",
       " 'mmdet.datasets',\n",
       " 'mmdet.utils',\n",
       " 'mmdet.models',\n",
       " 'mmdet.core.visualization',\n",
       " 'mmdet.core.post_processing',\n",
       " 'mmdet.core.utils',\n",
       " 'mmdet.core.mask',\n",
       " 'mmdet.core.evaluation',\n",
       " 'mmdet.core.anchor',\n",
       " 'mmdet.core.export',\n",
       " 'mmdet.core.bbox',\n",
       " 'mmdet.core.bbox.match_costs',\n",
       " 'mmdet.core.bbox.iou_calculators',\n",
       " 'mmdet.core.bbox.assigners',\n",
       " 'mmdet.core.bbox.samplers',\n",
       " 'mmdet.core.bbox.coder',\n",
       " 'mmdet.datasets.pipelines',\n",
       " 'mmdet.datasets.api_wrappers',\n",
       " 'mmdet.datasets.samplers',\n",
       " 'mmdet.models.losses',\n",
       " 'mmdet.models.dense_heads',\n",
       " 'mmdet.models.necks',\n",
       " 'mmdet.models.utils',\n",
       " 'mmdet.models.backbones',\n",
       " 'mmdet.models.detectors',\n",
       " 'mmdet.models.roi_heads',\n",
       " 'mmdet.models.roi_heads.shared_heads',\n",
       " 'mmdet.models.roi_heads.roi_extractors',\n",
       " 'mmdet.models.roi_heads.bbox_heads',\n",
       " 'mmdet.models.roi_heads.mask_heads']"
      ]
     },
     "execution_count": 4,
     "metadata": {},
     "output_type": "execute_result"
    }
   ],
   "source": [
    "find_packages(exclude=('configs', 'tools'))  "
   ]
  },
  {
   "cell_type": "code",
   "execution_count": 6,
   "id": "interracial-remedy",
   "metadata": {},
   "outputs": [],
   "source": [
    "def parse_requirements(fname='requirements.txt', with_version=True):\n",
    "    \"\"\"Parse the package dependencies listed in a requirements file but strips\n",
    "    specific versioning information.\n",
    "\n",
    "    Args:\n",
    "        fname (str): path to requirements file\n",
    "        with_version (bool, default=False): if True include version specs\n",
    "\n",
    "    Returns:\n",
    "        List[str]: list of requirements items\n",
    "\n",
    "    CommandLine:\n",
    "        python -c \"import setup; print(setup.parse_requirements())\"\n",
    "    \"\"\"\n",
    "    import sys\n",
    "    from os.path import exists\n",
    "    import re\n",
    "    require_fpath = fname\n",
    "\n",
    "    def parse_line(line):\n",
    "        \"\"\"Parse information from a line in a requirements text file.\"\"\"\n",
    "        if line.startswith('-r '):\n",
    "            # Allow specifying requirements in other files\n",
    "            target = line.split(' ')[1]\n",
    "            for info in parse_require_file(target):\n",
    "                yield info\n",
    "        else:\n",
    "            info = {'line': line}\n",
    "            if line.startswith('-e '):\n",
    "                info['package'] = line.split('#egg=')[1]\n",
    "            elif '@git+' in line:\n",
    "                info['package'] = line\n",
    "            else:\n",
    "                # Remove versioning from the package\n",
    "                pat = '(' + '|'.join(['>=', '==', '>']) + ')'\n",
    "                parts = re.split(pat, line, maxsplit=1)\n",
    "                parts = [p.strip() for p in parts]\n",
    "\n",
    "                info['package'] = parts[0]\n",
    "                if len(parts) > 1:\n",
    "                    op, rest = parts[1:]\n",
    "                    if ';' in rest:\n",
    "                        # Handle platform specific dependencies\n",
    "                        # http://setuptools.readthedocs.io/en/latest/setuptools.html#declaring-platform-specific-dependencies\n",
    "                        version, platform_deps = map(str.strip,\n",
    "                                                     rest.split(';'))\n",
    "                        info['platform_deps'] = platform_deps\n",
    "                    else:\n",
    "                        version = rest  # NOQA\n",
    "                    info['version'] = (op, version)\n",
    "            yield info\n",
    "\n",
    "    def parse_require_file(fpath):\n",
    "        with open(fpath, 'r') as f:\n",
    "            for line in f.readlines():\n",
    "                line = line.strip()\n",
    "                if line and not line.startswith('#'):\n",
    "                    for info in parse_line(line):\n",
    "                        yield info\n",
    "\n",
    "    def gen_packages_items():\n",
    "        if exists(require_fpath):\n",
    "            for info in parse_require_file(require_fpath):\n",
    "                parts = [info['package']]\n",
    "                if with_version and 'version' in info:\n",
    "                    parts.extend(info['version'])\n",
    "                if not sys.version.startswith('3.4'):\n",
    "                    # apparently package_deps are broken in 3.4\n",
    "                    platform_deps = info.get('platform_deps')\n",
    "                    if platform_deps is not None:\n",
    "                        parts.append(';' + platform_deps)\n",
    "                item = ''.join(parts)\n",
    "                yield item\n",
    "\n",
    "    packages = list(gen_packages_items())\n",
    "    return packages"
   ]
  },
  {
   "cell_type": "code",
   "execution_count": 7,
   "id": "interim-chair",
   "metadata": {},
   "outputs": [
    {
     "data": {
      "text/plain": [
       "['cython', 'numpy']"
      ]
     },
     "execution_count": 7,
     "metadata": {},
     "output_type": "execute_result"
    }
   ],
   "source": [
    "parse_requirements('requirements/build.txt')"
   ]
  },
  {
   "cell_type": "code",
   "execution_count": 8,
   "id": "touched-desire",
   "metadata": {
    "collapsed": true
   },
   "outputs": [
    {
     "data": {
      "text/plain": [
       "['asynctest',\n",
       " 'codecov',\n",
       " 'flake8',\n",
       " 'interrogate',\n",
       " 'isort==4.3.21',\n",
       " 'kwarray',\n",
       " 'onnx==1.7.0',\n",
       " 'onnxruntime==1.5.1',\n",
       " 'pytest',\n",
       " 'ubelt',\n",
       " 'xdoctest>=0.10.0',\n",
       " 'yapf']"
      ]
     },
     "execution_count": 8,
     "metadata": {},
     "output_type": "execute_result"
    }
   ],
   "source": [
    "parse_requirements('requirements/tests.txt')"
   ]
  },
  {
   "cell_type": "code",
   "execution_count": 10,
   "id": "intense-verse",
   "metadata": {
    "collapsed": true
   },
   "outputs": [
    {
     "data": {
      "text/plain": [
       "(['matplotlib',\n",
       "  'numpy',\n",
       "  'pycocotools; platform_system==\"Linux\"',\n",
       "  'pycocotools-windows; platform_system==\"Windows\"',\n",
       "  'six',\n",
       "  'terminaltables',\n",
       "  'timm'],)"
      ]
     },
     "execution_count": 10,
     "metadata": {},
     "output_type": "execute_result"
    }
   ],
   "source": [
    "parse_requirements('requirements/runtime.txt'),"
   ]
  },
  {
   "cell_type": "code",
   "execution_count": 13,
   "id": "possible-philadelphia",
   "metadata": {},
   "outputs": [
    {
     "data": {
      "text/plain": [
       "tensor([[0.5000, 0.5000],\n",
       "        [0.5000, 0.5000],\n",
       "        [0.5000, 0.5000],\n",
       "        [0.5000, 0.5000],\n",
       "        [0.5000, 0.5000],\n",
       "        [0.5000, 0.5000],\n",
       "        [0.5000, 0.5000],\n",
       "        [0.5000, 0.5000],\n",
       "        [0.5000, 0.5000],\n",
       "        [0.5000, 0.5000]], grad_fn=<AsStridedBackward>)"
      ]
     },
     "execution_count": 13,
     "metadata": {},
     "output_type": "execute_result"
    }
   ],
   "source": [
    "init_proposal_bboxes = nn.Embedding(10, 4)\n",
    "res = nn.init.constant_(init_proposal_bboxes.weight[:, :2], 0.5)\n",
    "res"
   ]
  },
  {
   "cell_type": "code",
   "execution_count": 19,
   "id": "russian-providence",
   "metadata": {},
   "outputs": [
    {
     "data": {
      "text/plain": [
       "tensor([[1., 1.],\n",
       "        [1., 1.],\n",
       "        [1., 1.],\n",
       "        [1., 1.],\n",
       "        [1., 1.],\n",
       "        [1., 1.],\n",
       "        [1., 1.],\n",
       "        [1., 1.],\n",
       "        [1., 1.],\n",
       "        [1., 1.]], grad_fn=<AsStridedBackward>)"
      ]
     },
     "execution_count": 19,
     "metadata": {},
     "output_type": "execute_result"
    }
   ],
   "source": [
    "nn.init.constant_(init_proposal_bboxes.weight[:, 2:], 1)"
   ]
  },
  {
   "cell_type": "code",
   "execution_count": 20,
   "id": "fixed-hudson",
   "metadata": {},
   "outputs": [
    {
     "data": {
      "text/plain": [
       "Parameter containing:\n",
       "tensor([[0.5000, 0.5000, 1.0000, 1.0000],\n",
       "        [0.5000, 0.5000, 1.0000, 1.0000],\n",
       "        [0.5000, 0.5000, 1.0000, 1.0000],\n",
       "        [0.5000, 0.5000, 1.0000, 1.0000],\n",
       "        [0.5000, 0.5000, 1.0000, 1.0000],\n",
       "        [0.5000, 0.5000, 1.0000, 1.0000],\n",
       "        [0.5000, 0.5000, 1.0000, 1.0000],\n",
       "        [0.5000, 0.5000, 1.0000, 1.0000],\n",
       "        [0.5000, 0.5000, 1.0000, 1.0000],\n",
       "        [0.5000, 0.5000, 1.0000, 1.0000]], requires_grad=True)"
      ]
     },
     "execution_count": 20,
     "metadata": {},
     "output_type": "execute_result"
    }
   ],
   "source": [
    "init_proposal_bboxes.weight"
   ]
  },
  {
   "cell_type": "code",
   "execution_count": 23,
   "id": "ecological-freedom",
   "metadata": {},
   "outputs": [
    {
     "data": {
      "text/plain": [
       "torch.Size([2, 10, 4])"
      ]
     },
     "execution_count": 23,
     "metadata": {},
     "output_type": "execute_result"
    }
   ],
   "source": [
    "a = torch.zeros((2, 10, 4))\n",
    "a.shape"
   ]
  },
  {
   "cell_type": "code",
   "execution_count": 24,
   "id": "honey-partner",
   "metadata": {},
   "outputs": [
    {
     "data": {
      "text/plain": [
       "2"
      ]
     },
     "execution_count": 24,
     "metadata": {},
     "output_type": "execute_result"
    }
   ],
   "source": [
    "len(a)"
   ]
  },
  {
   "cell_type": "code",
   "execution_count": 26,
   "id": "talented-training",
   "metadata": {},
   "outputs": [
    {
     "data": {
      "text/plain": [
       "[tensor([[0., 0., 0., 0.],\n",
       "         [0., 0., 0., 0.],\n",
       "         [0., 0., 0., 0.],\n",
       "         [0., 0., 0., 0.],\n",
       "         [0., 0., 0., 0.],\n",
       "         [0., 0., 0., 0.],\n",
       "         [0., 0., 0., 0.],\n",
       "         [0., 0., 0., 0.],\n",
       "         [0., 0., 0., 0.],\n",
       "         [0., 0., 0., 0.]]),\n",
       " tensor([[0., 0., 0., 0.],\n",
       "         [0., 0., 0., 0.],\n",
       "         [0., 0., 0., 0.],\n",
       "         [0., 0., 0., 0.],\n",
       "         [0., 0., 0., 0.],\n",
       "         [0., 0., 0., 0.],\n",
       "         [0., 0., 0., 0.],\n",
       "         [0., 0., 0., 0.],\n",
       "         [0., 0., 0., 0.],\n",
       "         [0., 0., 0., 0.]])]"
      ]
     },
     "execution_count": 26,
     "metadata": {},
     "output_type": "execute_result"
    }
   ],
   "source": [
    "b = [a[i] for i in range(len(a))]\n",
    "b"
   ]
  },
  {
   "cell_type": "code",
   "execution_count": 4,
   "id": "interpreted-planet",
   "metadata": {},
   "outputs": [],
   "source": [
    "def bbox2roi(bbox_list):\n",
    "    \"\"\"Convert a list of bboxes to roi format.\n",
    "\n",
    "    Args:\n",
    "        bbox_list (list[Tensor]): a list of bboxes corresponding to a batch\n",
    "            of images.\n",
    "\n",
    "    Returns:\n",
    "        Tensor: shape (n, 5), [batch_ind, x1, y1, x2, y2]\n",
    "    \"\"\"\n",
    "    rois_list = []\n",
    "    for img_id, bboxes in enumerate(bbox_list):\n",
    "        # bboxes.shape: (num_proposals, 4)\n",
    "        if bboxes.size(0) > 0:\n",
    "            img_inds = bboxes.new_full((bboxes.size(0), 1), img_id)\n",
    "            rois = torch.cat([img_inds, bboxes[:, :4]], dim=-1)\n",
    "        else:\n",
    "            rois = bboxes.new_zeros((0, 5))\n",
    "        rois_list.append(rois)\n",
    "    rois = torch.cat(rois_list, 0)\n",
    "    return rois"
   ]
  },
  {
   "cell_type": "code",
   "execution_count": 33,
   "id": "fixed-custom",
   "metadata": {},
   "outputs": [
    {
     "data": {
      "text/plain": [
       "tensor([[0.0000, 0.4140, 0.7233, 0.4780, 0.1765],\n",
       "        [0.0000, 0.8594, 0.4138, 0.2550, 0.2919],\n",
       "        [1.0000, 0.1803, 0.6177, 0.8708, 0.6756],\n",
       "        [1.0000, 0.6536, 0.2452, 0.3715, 0.2674],\n",
       "        [2.0000, 0.1102, 0.4175, 0.5090, 0.7105],\n",
       "        [2.0000, 0.4338, 0.6390, 0.5860, 0.4554],\n",
       "        [3.0000, 0.8406, 0.4782, 0.0737, 0.2856],\n",
       "        [3.0000, 0.0529, 0.1080, 0.3798, 0.3995]])"
      ]
     },
     "execution_count": 33,
     "metadata": {},
     "output_type": "execute_result"
    }
   ],
   "source": [
    "c = torch.rand((4, 2, 4))\n",
    "d = bbox2roi(c)\n",
    "d"
   ]
  },
  {
   "cell_type": "code",
   "execution_count": 31,
   "id": "dramatic-concentrate",
   "metadata": {},
   "outputs": [
    {
     "data": {
      "text/plain": [
       "torch.Size([8, 5])"
      ]
     },
     "execution_count": 31,
     "metadata": {},
     "output_type": "execute_result"
    }
   ],
   "source": [
    "d.shape"
   ]
  },
  {
   "cell_type": "code",
   "execution_count": 34,
   "id": "combined-subsection",
   "metadata": {},
   "outputs": [
    {
     "data": {
      "text/plain": [
       "tensor([[[0.4140, 0.7233, 0.4780, 0.1765],\n",
       "         [0.8594, 0.4138, 0.2550, 0.2919]],\n",
       "\n",
       "        [[0.1803, 0.6177, 0.8708, 0.6756],\n",
       "         [0.6536, 0.2452, 0.3715, 0.2674]],\n",
       "\n",
       "        [[0.1102, 0.4175, 0.5090, 0.7105],\n",
       "         [0.4338, 0.6390, 0.5860, 0.4554]],\n",
       "\n",
       "        [[0.8406, 0.4782, 0.0737, 0.2856],\n",
       "         [0.0529, 0.1080, 0.3798, 0.3995]]])"
      ]
     },
     "execution_count": 34,
     "metadata": {},
     "output_type": "execute_result"
    }
   ],
   "source": [
    "c"
   ]
  },
  {
   "cell_type": "code",
   "execution_count": 16,
   "id": "essential-exhibition",
   "metadata": {},
   "outputs": [],
   "source": [
    "proposal_boxes = torch.rand(4, 2, 4)\n",
    "proposal_list = [proposal_boxes[i] for i in range(len(proposal_boxes))]\n",
    "rois = bbox2roi(proposal_list)"
   ]
  },
  {
   "cell_type": "code",
   "execution_count": 17,
   "id": "extraordinary-rating",
   "metadata": {},
   "outputs": [
    {
     "data": {
      "text/plain": [
       "tensor([[0.0000, 0.8674, 0.6879, 0.2520, 0.3844],\n",
       "        [0.0000, 0.0416, 0.9977, 0.4560, 0.3463],\n",
       "        [1.0000, 0.2048, 0.4977, 0.6467, 0.9364],\n",
       "        [1.0000, 0.1216, 0.4102, 0.1659, 0.1015],\n",
       "        [2.0000, 0.2531, 0.7194, 0.8648, 0.3340],\n",
       "        [2.0000, 0.2727, 0.6682, 0.8327, 0.1480],\n",
       "        [3.0000, 0.5849, 0.6169, 0.1098, 0.8604],\n",
       "        [3.0000, 0.8024, 0.9218, 0.0160, 0.8042]])"
      ]
     },
     "execution_count": 17,
     "metadata": {},
     "output_type": "execute_result"
    }
   ],
   "source": [
    "rois"
   ]
  },
  {
   "cell_type": "code",
   "execution_count": 5,
   "id": "functioning-senator",
   "metadata": {},
   "outputs": [
    {
     "data": {
      "text/plain": [
       "torch.Size([1, 2, 340, 340])"
      ]
     },
     "execution_count": 5,
     "metadata": {},
     "output_type": "execute_result"
    }
   ],
   "source": [
    "in_channels = [2, 3, 5, 7]\n",
    "scales = [340, 170, 84, 43]\n",
    "inputs = [torch.rand(1, c, s, s) for c, s in zip(in_channels, scales)]\n",
    "inputs[0].shape"
   ]
  },
  {
   "cell_type": "code",
   "execution_count": 6,
   "id": "broken-programming",
   "metadata": {},
   "outputs": [
    {
     "data": {
      "text/plain": [
       "torch.Size([1, 3, 170, 170])"
      ]
     },
     "execution_count": 6,
     "metadata": {},
     "output_type": "execute_result"
    }
   ],
   "source": [
    "inputs[1].shape"
   ]
  },
  {
   "cell_type": "code",
   "execution_count": 8,
   "id": "collective-tablet",
   "metadata": {},
   "outputs": [
    {
     "data": {
      "text/plain": [
       "tensor([[[[0.1859, 0.4968, 0.5601],\n",
       "          [0.1935, 0.3251, 0.7271],\n",
       "          [0.2630, 0.7858, 0.9863]],\n",
       "\n",
       "         [[0.4258, 0.5859, 0.3402],\n",
       "          [0.0410, 0.3063, 0.6568],\n",
       "          [0.9656, 0.2459, 0.9027]],\n",
       "\n",
       "         [[0.5308, 0.5463, 0.0868],\n",
       "          [0.5445, 0.8437, 0.9497],\n",
       "          [0.3916, 0.1916, 0.3441]]],\n",
       "\n",
       "\n",
       "        [[[0.0472, 0.4806, 0.7984],\n",
       "          [0.2977, 0.9824, 0.7561],\n",
       "          [0.5655, 0.2376, 0.6125]],\n",
       "\n",
       "         [[0.8725, 0.2155, 0.0750],\n",
       "          [0.0554, 0.6008, 0.6296],\n",
       "          [0.3653, 0.3989, 0.5753]],\n",
       "\n",
       "         [[0.5374, 0.4930, 0.4973],\n",
       "          [0.5730, 0.6311, 0.8633],\n",
       "          [0.9826, 0.0937, 0.3937]]]])"
      ]
     },
     "execution_count": 8,
     "metadata": {},
     "output_type": "execute_result"
    }
   ],
   "source": [
    "# imgs_whwh.append(imgs[0].new_tensor([[w, h, w, h]]))\n",
    "img_0 = torch.rand((2, 3, 3, 3))\n",
    "img_0"
   ]
  },
  {
   "cell_type": "code",
   "execution_count": 10,
   "id": "welcome-failing",
   "metadata": {},
   "outputs": [
    {
     "data": {
      "text/plain": [
       "tensor([[2., 2., 2., 2.]])"
      ]
     },
     "execution_count": 10,
     "metadata": {},
     "output_type": "execute_result"
    }
   ],
   "source": [
    "img_0.new_tensor([[2, 2, 2, 2]])"
   ]
  },
  {
   "cell_type": "code",
   "execution_count": 13,
   "id": "bizarre-depth",
   "metadata": {},
   "outputs": [
    {
     "data": {
      "text/plain": [
       "tensor([[0.1005, 0.6047, 0.4954, 0.0234],\n",
       "        [0.5817, 0.8683, 0.5542, 0.7398],\n",
       "        [0.0536, 0.0303, 0.5816, 0.9956]])"
      ]
     },
     "execution_count": 13,
     "metadata": {},
     "output_type": "execute_result"
    }
   ],
   "source": [
    "imgs_whwh = torch.rand((2, 1, 4))\n",
    "proposals = torch.rand((3, 4))\n",
    "proposals"
   ]
  },
  {
   "cell_type": "code",
   "execution_count": 14,
   "id": "center-modem",
   "metadata": {},
   "outputs": [
    {
     "data": {
      "text/plain": [
       "tensor([[[0.5256, 0.1174, 0.3877, 0.4371]],\n",
       "\n",
       "        [[0.2512, 0.5584, 0.2768, 0.0615]]])"
      ]
     },
     "execution_count": 14,
     "metadata": {},
     "output_type": "execute_result"
    }
   ],
   "source": [
    "imgs_whwh"
   ]
  },
  {
   "cell_type": "code",
   "execution_count": 16,
   "id": "acute-friend",
   "metadata": {},
   "outputs": [],
   "source": [
    "final_proposals = proposals * imgs_whwh"
   ]
  },
  {
   "cell_type": "code",
   "execution_count": 17,
   "id": "hydraulic-young",
   "metadata": {},
   "outputs": [
    {
     "data": {
      "text/plain": [
       "torch.Size([2, 3, 4])"
      ]
     },
     "execution_count": 17,
     "metadata": {},
     "output_type": "execute_result"
    }
   ],
   "source": [
    "final_proposals.shape"
   ]
  },
  {
   "cell_type": "code",
   "execution_count": 18,
   "id": "stuffed-crest",
   "metadata": {},
   "outputs": [
    {
     "data": {
      "text/plain": [
       "tensor([[[0.0528, 0.0710, 0.1921, 0.0102],\n",
       "         [0.3057, 0.1020, 0.2149, 0.3234],\n",
       "         [0.0281, 0.0036, 0.2255, 0.4352]],\n",
       "\n",
       "        [[0.0253, 0.3377, 0.1372, 0.0014],\n",
       "         [0.1461, 0.4848, 0.1534, 0.0455],\n",
       "         [0.0134, 0.0169, 0.1610, 0.0612]]])"
      ]
     },
     "execution_count": 18,
     "metadata": {},
     "output_type": "execute_result"
    }
   ],
   "source": [
    "final_proposals"
   ]
  },
  {
   "cell_type": "code",
   "execution_count": 22,
   "id": "dying-round",
   "metadata": {},
   "outputs": [
    {
     "data": {
      "text/plain": [
       "Parameter containing:\n",
       "tensor([[-0.4601,  1.9385, -1.3533],\n",
       "        [-0.0058, -1.2428,  0.0770],\n",
       "        [-0.5888, -0.8354, -1.3720]], requires_grad=True)"
      ]
     },
     "execution_count": 22,
     "metadata": {},
     "output_type": "execute_result"
    }
   ],
   "source": [
    "num_proposals = 3\n",
    "proposal_feature_channel = 3\n",
    "init_proposal_features = nn.Embedding(num_proposals, proposal_feature_channel)\n",
    "init_proposal_features.weight"
   ]
  },
  {
   "cell_type": "code",
   "execution_count": 25,
   "id": "fundamental-schedule",
   "metadata": {},
   "outputs": [
    {
     "data": {
      "text/plain": [
       "tensor([[-0.4601,  1.9385, -1.3533],\n",
       "        [-0.0058, -1.2428,  0.0770],\n",
       "        [-0.5888, -0.8354, -1.3720]], grad_fn=<CloneBackward>)"
      ]
     },
     "execution_count": 25,
     "metadata": {},
     "output_type": "execute_result"
    }
   ],
   "source": [
    "init_proposal_features_weight = init_proposal_features.weight.clone()\n",
    "init_proposal_features_weight"
   ]
  },
  {
   "cell_type": "code",
   "execution_count": 26,
   "id": "compact-exposure",
   "metadata": {},
   "outputs": [
    {
     "data": {
      "text/plain": [
       "tensor([[[-0.4601,  1.9385, -1.3533],\n",
       "         [-0.0058, -1.2428,  0.0770],\n",
       "         [-0.5888, -0.8354, -1.3720]]], grad_fn=<UnsqueezeBackward0>)"
      ]
     },
     "execution_count": 26,
     "metadata": {},
     "output_type": "execute_result"
    }
   ],
   "source": [
    "init_proposal_features_weight[None]"
   ]
  },
  {
   "cell_type": "code",
   "execution_count": 27,
   "id": "piano-hughes",
   "metadata": {},
   "outputs": [
    {
     "ename": "SyntaxError",
     "evalue": "invalid syntax (<ipython-input-27-bdf5fa19dc76>, line 1)",
     "output_type": "error",
     "traceback": [
      "\u001b[0;36m  File \u001b[0;32m\"<ipython-input-27-bdf5fa19dc76>\"\u001b[0;36m, line \u001b[0;32m1\u001b[0m\n\u001b[0;31m    init_proposal_features_weight[]\u001b[0m\n\u001b[0m                                  ^\u001b[0m\n\u001b[0;31mSyntaxError\u001b[0m\u001b[0;31m:\u001b[0m invalid syntax\n"
     ]
    }
   ],
   "source": [
    "init_proposal_features_weight[]"
   ]
  },
  {
   "cell_type": "code",
   "execution_count": 28,
   "id": "photographic-bandwidth",
   "metadata": {},
   "outputs": [
    {
     "data": {
      "text/plain": [
       "tensor([-0.0058, -1.2428,  0.0770], grad_fn=<SelectBackward>)"
      ]
     },
     "execution_count": 28,
     "metadata": {},
     "output_type": "execute_result"
    }
   ],
   "source": [
    "init_proposal_features_weight[1]"
   ]
  },
  {
   "cell_type": "code",
   "execution_count": 29,
   "id": "honey-costume",
   "metadata": {},
   "outputs": [
    {
     "data": {
      "text/plain": [
       "torch.Size([3, 3])"
      ]
     },
     "execution_count": 29,
     "metadata": {},
     "output_type": "execute_result"
    }
   ],
   "source": [
    "init_proposal_features_weight.size()"
   ]
  },
  {
   "cell_type": "code",
   "execution_count": 30,
   "id": "documented-champion",
   "metadata": {},
   "outputs": [
    {
     "ename": "SyntaxError",
     "evalue": "can't use starred expression here (<ipython-input-30-8e71f608340f>, line 1)",
     "output_type": "error",
     "traceback": [
      "\u001b[0;36m  File \u001b[0;32m\"<ipython-input-30-8e71f608340f>\"\u001b[0;36m, line \u001b[0;32m1\u001b[0m\n\u001b[0;31m    *init_proposal_features_weight.size()\u001b[0m\n\u001b[0m    ^\u001b[0m\n\u001b[0;31mSyntaxError\u001b[0m\u001b[0;31m:\u001b[0m can't use starred expression here\n"
     ]
    }
   ],
   "source": [
    "*init_proposal_features_weight.size()"
   ]
  },
  {
   "cell_type": "code",
   "execution_count": 31,
   "id": "graduate-basin",
   "metadata": {},
   "outputs": [
    {
     "data": {
      "text/plain": [
       "tensor([[[-0.4601,  1.9385, -1.3533],\n",
       "         [-0.0058, -1.2428,  0.0770],\n",
       "         [-0.5888, -0.8354, -1.3720]],\n",
       "\n",
       "        [[-0.4601,  1.9385, -1.3533],\n",
       "         [-0.0058, -1.2428,  0.0770],\n",
       "         [-0.5888, -0.8354, -1.3720]]], grad_fn=<ExpandBackward>)"
      ]
     },
     "execution_count": 31,
     "metadata": {},
     "output_type": "execute_result"
    }
   ],
   "source": [
    "num_imgs = 2\n",
    "init_proposal_features_weight[None].expand(num_imgs, *init_proposal_features_weight.size())"
   ]
  },
  {
   "cell_type": "code",
   "execution_count": 32,
   "id": "chinese-olympus",
   "metadata": {},
   "outputs": [
    {
     "data": {
      "text/plain": [
       "torch.Size([2, 3, 3])"
      ]
     },
     "execution_count": 32,
     "metadata": {},
     "output_type": "execute_result"
    }
   ],
   "source": [
    "init_proposal_features_weight[None].expand(num_imgs, *init_proposal_features_weight.size()).size()"
   ]
  },
  {
   "cell_type": "code",
   "execution_count": 7,
   "id": "minute-timing",
   "metadata": {},
   "outputs": [
    {
     "data": {
      "text/plain": [
       "4"
      ]
     },
     "execution_count": 7,
     "metadata": {},
     "output_type": "execute_result"
    }
   ],
   "source": [
    "featmap_strides = [4, 8, 16, 32]\n",
    "len(featmap_strides)"
   ]
  },
  {
   "cell_type": "code",
   "execution_count": 42,
   "id": "prerequisite-spanish",
   "metadata": {},
   "outputs": [],
   "source": [
    "def map_roi_levels(rois, num_levels):\n",
    "    \"\"\"Map rois to corresponding feature levels by scales.\n",
    "\n",
    "    - scale < finest_scale * 2: level 0\n",
    "    - finest_scale * 2 <= scale < finest_scale * 4: level 1\n",
    "    - finest_scale * 4 <= scale < finest_scale * 8: level 2\n",
    "    - scale >= finest_scale * 8: level 3\n",
    "\n",
    "    Args:\n",
    "        rois (Tensor): Input RoIs, shape (k, 5).\n",
    "        num_levels (int): Total level number.\n",
    "\n",
    "    Returns:\n",
    "        Tensor: Level index (0-based) of each RoI, shape (k, )\n",
    "    \"\"\"\n",
    "    # rois: (batch * num_proposals, 5)\n",
    "    scale = torch.sqrt(\n",
    "        (rois[:, 3] - rois[:, 1]) * (rois[:, 4] - rois[:, 2]))\n",
    "    print(scale)\n",
    "    target_lvls = torch.floor(torch.log2(scale / 56 + 1e-6))\n",
    "    print(target_lvls)\n",
    "    target_lvls = target_lvls.clamp(min=0, max=num_levels - 1).long()\n",
    "    return target_lvls"
   ]
  },
  {
   "cell_type": "code",
   "execution_count": 18,
   "id": "pointed-scope",
   "metadata": {},
   "outputs": [
    {
     "data": {
      "text/plain": [
       "tensor([[0.0000, 0.8674, 0.6879, 0.2520, 0.3844],\n",
       "        [0.0000, 0.0416, 0.9977, 0.4560, 0.3463],\n",
       "        [1.0000, 0.2048, 0.4977, 0.6467, 0.9364],\n",
       "        [1.0000, 0.1216, 0.4102, 0.1659, 0.1015],\n",
       "        [2.0000, 0.2531, 0.7194, 0.8648, 0.3340],\n",
       "        [2.0000, 0.2727, 0.6682, 0.8327, 0.1480],\n",
       "        [3.0000, 0.5849, 0.6169, 0.1098, 0.8604],\n",
       "        [3.0000, 0.8024, 0.9218, 0.0160, 0.8042]])"
      ]
     },
     "execution_count": 18,
     "metadata": {},
     "output_type": "execute_result"
    }
   ],
   "source": [
    "rois"
   ]
  },
  {
   "cell_type": "code",
   "execution_count": 43,
   "id": "august-installation",
   "metadata": {},
   "outputs": [
    {
     "name": "stdout",
     "output_type": "stream",
     "text": [
      "tensor([0.4322,    nan, 0.4403,    nan,    nan,    nan,    nan, 0.3041])\n",
      "tensor([-8., nan, -7., nan, nan, nan, nan, -8.])\n"
     ]
    }
   ],
   "source": [
    "map_roi_res = map_roi_levels(rois, 4)"
   ]
  },
  {
   "cell_type": "code",
   "execution_count": 44,
   "id": "norwegian-progressive",
   "metadata": {},
   "outputs": [
    {
     "data": {
      "text/plain": [
       "torch.Size([8])"
      ]
     },
     "execution_count": 44,
     "metadata": {},
     "output_type": "execute_result"
    }
   ],
   "source": [
    "map_roi_res.shape"
   ]
  },
  {
   "cell_type": "code",
   "execution_count": 45,
   "id": "certified-wellington",
   "metadata": {},
   "outputs": [
    {
     "data": {
      "text/plain": [
       "tensor([                   0, -9223372036854775808,                    0,\n",
       "        -9223372036854775808, -9223372036854775808, -9223372036854775808,\n",
       "        -9223372036854775808,                    0])"
      ]
     },
     "execution_count": 45,
     "metadata": {},
     "output_type": "execute_result"
    }
   ],
   "source": [
    "map_roi_res"
   ]
  },
  {
   "cell_type": "code",
   "execution_count": 32,
   "id": "coordinate-formation",
   "metadata": {},
   "outputs": [
    {
     "data": {
      "text/plain": [
       "tensor([False, False, False, False, False, False, False, False])"
      ]
     },
     "execution_count": 32,
     "metadata": {},
     "output_type": "execute_result"
    }
   ],
   "source": [
    "map_roi_res == 1"
   ]
  },
  {
   "cell_type": "code",
   "execution_count": 34,
   "id": "based-magnet",
   "metadata": {},
   "outputs": [
    {
     "data": {
      "text/plain": [
       "tensor([[0., 1., 1., 1., 1.],\n",
       "        [0., 1., 1., 1., 1.],\n",
       "        [1., 1., 1., 1., 1.],\n",
       "        [1., 1., 1., 1., 1.],\n",
       "        [2., 1., 1., 1., 1.],\n",
       "        [2., 1., 1., 1., 1.],\n",
       "        [3., 1., 1., 1., 1.],\n",
       "        [3., 1., 1., 1., 1.]])"
      ]
     },
     "execution_count": 34,
     "metadata": {},
     "output_type": "execute_result"
    }
   ],
   "source": [
    "all_one = torch.ones((4, 2, 4))\n",
    "all_one_res = bbox2roi(all_one)\n",
    "all_one_res"
   ]
  },
  {
   "cell_type": "code",
   "execution_count": 36,
   "id": "spread-disposition",
   "metadata": {},
   "outputs": [
    {
     "name": "stdout",
     "output_type": "stream",
     "text": [
      "tensor([0., 0., 0., 0., 0., 0., 0., 0.])\n"
     ]
    },
    {
     "data": {
      "text/plain": [
       "tensor([0, 0, 0, 0, 0, 0, 0, 0])"
      ]
     },
     "execution_count": 36,
     "metadata": {},
     "output_type": "execute_result"
    }
   ],
   "source": [
    "map_roi_levels(all_one_res, 4)"
   ]
  },
  {
   "cell_type": "code",
   "execution_count": 37,
   "id": "narrative-syria",
   "metadata": {},
   "outputs": [
    {
     "data": {
      "text/plain": [
       "tensor([0., 0., 0.])"
      ]
     },
     "execution_count": 37,
     "metadata": {},
     "output_type": "execute_result"
    }
   ],
   "source": [
    "torch.floor(torch.rand(3))"
   ]
  },
  {
   "cell_type": "code",
   "execution_count": 38,
   "id": "opening-sandwich",
   "metadata": {},
   "outputs": [
    {
     "data": {
      "text/plain": [
       "tensor([1., 1., 1.])"
      ]
     },
     "execution_count": 38,
     "metadata": {},
     "output_type": "execute_result"
    }
   ],
   "source": [
    "torch.floor(torch.ones(3))"
   ]
  },
  {
   "cell_type": "code",
   "execution_count": 46,
   "id": "hidden-delay",
   "metadata": {},
   "outputs": [
    {
     "data": {
      "text/plain": [
       "tensor([[0.0000, 0.7629, 0.3841, 0.2630, 0.7933],\n",
       "        [0.0000, 0.7373, 0.4391, 0.9600, 0.6475],\n",
       "        [1.0000, 0.6860, 0.6027, 0.0100, 0.0610],\n",
       "        [1.0000, 0.1370, 0.0319, 0.7754, 0.8904],\n",
       "        [2.0000, 0.2996, 0.0309, 0.0516, 0.9780],\n",
       "        [2.0000, 0.2541, 0.1225, 0.8034, 0.4431],\n",
       "        [3.0000, 0.9790, 0.4394, 0.4774, 0.2575],\n",
       "        [3.0000, 0.1794, 0.8235, 0.9170, 0.6085]])"
      ]
     },
     "execution_count": 46,
     "metadata": {},
     "output_type": "execute_result"
    }
   ],
   "source": [
    "test_roi = bbox2roi(torch.rand((4, 2, 4)))\n",
    "test_roi"
   ]
  },
  {
   "cell_type": "code",
   "execution_count": 47,
   "id": "german-vessel",
   "metadata": {},
   "outputs": [
    {
     "data": {
      "text/plain": [
       "tensor([   nan, 0.2154, 0.6051, 0.7404,    nan, 0.4196, 0.3020,    nan])"
      ]
     },
     "execution_count": 47,
     "metadata": {},
     "output_type": "execute_result"
    }
   ],
   "source": [
    "torch.sqrt((test_roi[:, 3] - test_roi[:, 1]) * (test_roi[:, 4] - test_roi[:, 2]))"
   ]
  },
  {
   "cell_type": "code",
   "execution_count": 48,
   "id": "built-bridal",
   "metadata": {},
   "outputs": [
    {
     "data": {
      "text/plain": [
       "tensor([-0.2045,  0.0464,  0.3662,  0.5481, -0.2349,  0.1761,  0.0912, -0.1586])"
      ]
     },
     "execution_count": 48,
     "metadata": {},
     "output_type": "execute_result"
    }
   ],
   "source": [
    "(test_roi[:, 3] - test_roi[:, 1]) * (test_roi[:, 4] - test_roi[:, 2])"
   ]
  },
  {
   "cell_type": "code",
   "execution_count": 49,
   "id": "editorial-amber",
   "metadata": {},
   "outputs": [
    {
     "data": {
      "text/plain": [
       "tensor([-0.4999,  0.2227, -0.6760,  0.6384, -0.2480,  0.5494, -0.5015,  0.7376])"
      ]
     },
     "execution_count": 49,
     "metadata": {},
     "output_type": "execute_result"
    }
   ],
   "source": [
    "test_roi[:, 3] - test_roi[:, 1]"
   ]
  },
  {
   "cell_type": "code",
   "execution_count": 50,
   "id": "focused-monday",
   "metadata": {},
   "outputs": [
    {
     "data": {
      "text/plain": [
       "tensor([0.2630, 0.9600, 0.0100, 0.7754, 0.0516, 0.8034, 0.4774, 0.9170])"
      ]
     },
     "execution_count": 50,
     "metadata": {},
     "output_type": "execute_result"
    }
   ],
   "source": [
    "test_roi[:, 3]"
   ]
  },
  {
   "cell_type": "code",
   "execution_count": 57,
   "id": "secure-rings",
   "metadata": {},
   "outputs": [
    {
     "data": {
      "text/plain": [
       "tensor([0, 2, 7])"
      ]
     },
     "execution_count": 57,
     "metadata": {},
     "output_type": "execute_result"
    }
   ],
   "source": [
    "mask = map_roi_res == 0\n",
    "inds = mask.nonzero(as_tuple=False).squeeze(1)\n",
    "inds"
   ]
  },
  {
   "cell_type": "code",
   "execution_count": 59,
   "id": "wrong-houston",
   "metadata": {},
   "outputs": [
    {
     "data": {
      "text/plain": [
       "tensor([ True, False,  True, False, False, False, False,  True])"
      ]
     },
     "execution_count": 59,
     "metadata": {},
     "output_type": "execute_result"
    }
   ],
   "source": [
    "mask"
   ]
  },
  {
   "cell_type": "code",
   "execution_count": 60,
   "id": "recreational-sandwich",
   "metadata": {},
   "outputs": [
    {
     "data": {
      "text/plain": [
       "tensor([                   0, -9223372036854775808,                    0,\n",
       "        -9223372036854775808, -9223372036854775808, -9223372036854775808,\n",
       "        -9223372036854775808,                    0])"
      ]
     },
     "execution_count": 60,
     "metadata": {},
     "output_type": "execute_result"
    }
   ],
   "source": [
    "map_roi_res"
   ]
  },
  {
   "cell_type": "code",
   "execution_count": 58,
   "id": "hollow-personality",
   "metadata": {},
   "outputs": [
    {
     "data": {
      "text/plain": [
       "tensor([[0],\n",
       "        [2],\n",
       "        [7]])"
      ]
     },
     "execution_count": 58,
     "metadata": {},
     "output_type": "execute_result"
    }
   ],
   "source": [
    "mask.nonzero(as_tuple=False)"
   ]
  },
  {
   "cell_type": "code",
   "execution_count": 61,
   "id": "official-black",
   "metadata": {},
   "outputs": [
    {
     "data": {
      "text/plain": [
       "tensor([[0.0000, 0.7629, 0.3841, 0.2630, 0.7933],\n",
       "        [0.0000, 0.7373, 0.4391, 0.9600, 0.6475],\n",
       "        [1.0000, 0.6860, 0.6027, 0.0100, 0.0610],\n",
       "        [1.0000, 0.1370, 0.0319, 0.7754, 0.8904],\n",
       "        [2.0000, 0.2996, 0.0309, 0.0516, 0.9780],\n",
       "        [2.0000, 0.2541, 0.1225, 0.8034, 0.4431],\n",
       "        [3.0000, 0.9790, 0.4394, 0.4774, 0.2575],\n",
       "        [3.0000, 0.1794, 0.8235, 0.9170, 0.6085]])"
      ]
     },
     "execution_count": 61,
     "metadata": {},
     "output_type": "execute_result"
    }
   ],
   "source": [
    "test_roi"
   ]
  },
  {
   "cell_type": "code",
   "execution_count": 62,
   "id": "promotional-buying",
   "metadata": {},
   "outputs": [
    {
     "data": {
      "text/plain": [
       "tensor([[0.0000, 0.7629, 0.3841, 0.2630, 0.7933],\n",
       "        [1.0000, 0.6860, 0.6027, 0.0100, 0.0610],\n",
       "        [3.0000, 0.1794, 0.8235, 0.9170, 0.6085]])"
      ]
     },
     "execution_count": 62,
     "metadata": {},
     "output_type": "execute_result"
    }
   ],
   "source": [
    "test_roi[inds]"
   ]
  },
  {
   "cell_type": "code",
   "execution_count": 63,
   "id": "processed-commission",
   "metadata": {},
   "outputs": [
    {
     "data": {
      "text/plain": [
       "tensor([0, 2, 7])"
      ]
     },
     "execution_count": 63,
     "metadata": {},
     "output_type": "execute_result"
    }
   ],
   "source": [
    "inds"
   ]
  },
  {
   "cell_type": "code",
   "execution_count": 64,
   "id": "adopted-storage",
   "metadata": {},
   "outputs": [
    {
     "data": {
      "text/plain": [
       "tensor([[[0.6784, 0.7932, 0.5145],\n",
       "         [0.0992, 0.0859, 0.5313]],\n",
       "\n",
       "        [[0.4867, 0.9737, 0.1892],\n",
       "         [0.3729, 0.2131, 0.0048]]])"
      ]
     },
     "execution_count": 64,
     "metadata": {},
     "output_type": "execute_result"
    }
   ],
   "source": [
    "proposal_feat = torch.rand((2, 2, 3))\n",
    "proposal_feat"
   ]
  },
  {
   "cell_type": "code",
   "execution_count": 65,
   "id": "charming-cleaning",
   "metadata": {},
   "outputs": [
    {
     "data": {
      "text/plain": [
       "tensor([[[0.6784, 0.7932, 0.5145],\n",
       "         [0.4867, 0.9737, 0.1892]],\n",
       "\n",
       "        [[0.0992, 0.0859, 0.5313],\n",
       "         [0.3729, 0.2131, 0.0048]]])"
      ]
     },
     "execution_count": 65,
     "metadata": {},
     "output_type": "execute_result"
    }
   ],
   "source": [
    "proposal_feat.permute(1, 0, 2)"
   ]
  },
  {
   "cell_type": "code",
   "execution_count": 4,
   "id": "geographic-square",
   "metadata": {},
   "outputs": [],
   "source": [
    "test_new_zeros = torch.rand((2, 3, 4))\n",
    "test_new_zeros_1 = torch.rand((2, 4))\n",
    "gen = test_new_zeros.new_zeros(len(test_new_zeros))\n",
    "gen_1 = test_new_zeros_1.new_zeros(len(test_new_zeros_1))"
   ]
  },
  {
   "cell_type": "code",
   "execution_count": 5,
   "id": "flexible-vancouver",
   "metadata": {},
   "outputs": [
    {
     "data": {
      "text/plain": [
       "torch.Size([2])"
      ]
     },
     "execution_count": 5,
     "metadata": {},
     "output_type": "execute_result"
    }
   ],
   "source": [
    "gen.shape"
   ]
  },
  {
   "cell_type": "code",
   "execution_count": 7,
   "id": "structural-wyoming",
   "metadata": {},
   "outputs": [
    {
     "data": {
      "text/plain": [
       "torch.Size([2])"
      ]
     },
     "execution_count": 7,
     "metadata": {},
     "output_type": "execute_result"
    }
   ],
   "source": [
    "gen_1.shape"
   ]
  },
  {
   "cell_type": "code",
   "execution_count": 8,
   "id": "dying-pontiac",
   "metadata": {},
   "outputs": [
    {
     "data": {
      "text/plain": [
       "tensor([0.8472, 0.7459, 0.4239, 0.9840])"
      ]
     },
     "execution_count": 8,
     "metadata": {},
     "output_type": "execute_result"
    }
   ],
   "source": [
    "test_new_zeros_1[0]"
   ]
  },
  {
   "cell_type": "code",
   "execution_count": 9,
   "id": "nuclear-bedroom",
   "metadata": {},
   "outputs": [
    {
     "data": {
      "text/plain": [
       "torch.Size([2, 3, 4])"
      ]
     },
     "execution_count": 9,
     "metadata": {},
     "output_type": "execute_result"
    }
   ],
   "source": [
    "test_new_zeros.shape"
   ]
  },
  {
   "cell_type": "code",
   "execution_count": 10,
   "id": "subjective-glenn",
   "metadata": {},
   "outputs": [
    {
     "data": {
      "text/plain": [
       "tensor([[3.3887, 2.9836, 1.6955, 3.9359],\n",
       "        [2.0148, 0.6900, 0.7875, 2.2636]])"
      ]
     },
     "execution_count": 10,
     "metadata": {},
     "output_type": "execute_result"
    }
   ],
   "source": [
    "test_new_zeros_1 * 4"
   ]
  },
  {
   "cell_type": "code",
   "execution_count": 12,
   "id": "cellular-impression",
   "metadata": {},
   "outputs": [
    {
     "data": {
      "text/plain": [
       "torch.Size([3, 4])"
      ]
     },
     "execution_count": 12,
     "metadata": {},
     "output_type": "execute_result"
    }
   ],
   "source": [
    "label = torch.rand(3)\n",
    "inds = torch.stack((label, label + 1, label + 2, label + 3), 1)\n",
    "inds.shape"
   ]
  },
  {
   "cell_type": "code",
   "execution_count": 13,
   "id": "prostate-singer",
   "metadata": {},
   "outputs": [
    {
     "data": {
      "text/plain": [
       "tensor([0.0178, 0.2046, 0.7053])"
      ]
     },
     "execution_count": 13,
     "metadata": {},
     "output_type": "execute_result"
    }
   ],
   "source": [
    "label"
   ]
  },
  {
   "cell_type": "code",
   "execution_count": 14,
   "id": "herbal-latitude",
   "metadata": {},
   "outputs": [
    {
     "data": {
      "text/plain": [
       "tensor([[0.0178, 1.0178, 2.0178, 3.0178],\n",
       "        [0.2046, 1.2046, 2.2046, 3.2046],\n",
       "        [0.7053, 1.7053, 2.7053, 3.7053]])"
      ]
     },
     "execution_count": 14,
     "metadata": {},
     "output_type": "execute_result"
    }
   ],
   "source": [
    "inds"
   ]
  },
  {
   "cell_type": "code",
   "execution_count": 16,
   "id": "annual-combining",
   "metadata": {},
   "outputs": [
    {
     "ename": "RuntimeError",
     "evalue": "The expanded size of the tensor (1) must match the existing size (3) at non-singleton dimension 0.  Target sizes: [1].  Tensor sizes: [3]",
     "output_type": "error",
     "traceback": [
      "\u001b[0;31m---------------------------------------------------------------------------\u001b[0m",
      "\u001b[0;31mRuntimeError\u001b[0m                              Traceback (most recent call last)",
      "\u001b[0;32m<ipython-input-16-83fb71d33aa0>\u001b[0m in \u001b[0;36m<module>\u001b[0;34m\u001b[0m\n\u001b[1;32m      4\u001b[0m \u001b[0mpos_keep\u001b[0m \u001b[0;34m=\u001b[0m \u001b[0;36m1\u001b[0m \u001b[0;34m-\u001b[0m \u001b[0mpos_is_gts_\u001b[0m  \u001b[0;31m# (num_proposals,) 实际上全是1\u001b[0m\u001b[0;34m\u001b[0m\u001b[0;34m\u001b[0m\u001b[0m\n\u001b[1;32m      5\u001b[0m \u001b[0mkeep_inds\u001b[0m \u001b[0;34m=\u001b[0m \u001b[0mpos_is_gts_\u001b[0m\u001b[0;34m.\u001b[0m\u001b[0mnew_ones\u001b[0m\u001b[0;34m(\u001b[0m\u001b[0mnum_rois\u001b[0m\u001b[0;34m)\u001b[0m  \u001b[0;31m# (num_rois, )\u001b[0m\u001b[0;34m\u001b[0m\u001b[0;34m\u001b[0m\u001b[0m\n\u001b[0;32m----> 6\u001b[0;31m \u001b[0mkeep_inds\u001b[0m\u001b[0;34m[\u001b[0m\u001b[0;34m:\u001b[0m\u001b[0mlen\u001b[0m\u001b[0;34m(\u001b[0m\u001b[0mpos_is_gts_\u001b[0m\u001b[0;34m)\u001b[0m\u001b[0;34m]\u001b[0m \u001b[0;34m=\u001b[0m \u001b[0mpos_keep\u001b[0m\u001b[0;34m\u001b[0m\u001b[0;34m\u001b[0m\u001b[0m\n\u001b[0m",
      "\u001b[0;31mRuntimeError\u001b[0m: The expanded size of the tensor (1) must match the existing size (3) at non-singleton dimension 0.  Target sizes: [1].  Tensor sizes: [3]"
     ]
    }
   ],
   "source": [
    "num_rois = 1\n",
    "num_proposals = 3\n",
    "pos_is_gts_ = torch.ones(num_proposals)\n",
    "pos_keep = 1 - pos_is_gts_  # (num_proposals,) 实际上全是1\n",
    "keep_inds = pos_is_gts_.new_ones(num_rois)  # (num_rois, )\n",
    "keep_inds[:len(pos_is_gts_)] = pos_keep"
   ]
  },
  {
   "cell_type": "code",
   "execution_count": null,
   "id": "dedicated-strip",
   "metadata": {},
   "outputs": [],
   "source": []
  }
 ],
 "metadata": {
  "kernelspec": {
   "display_name": "Python 3",
   "language": "python",
   "name": "python3"
  },
  "language_info": {
   "codemirror_mode": {
    "name": "ipython",
    "version": 3
   },
   "file_extension": ".py",
   "mimetype": "text/x-python",
   "name": "python",
   "nbconvert_exporter": "python",
   "pygments_lexer": "ipython3",
   "version": "3.8.3"
  }
 },
 "nbformat": 4,
 "nbformat_minor": 5
}
